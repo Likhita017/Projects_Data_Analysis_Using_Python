{
 "cells": [
  {
   "cell_type": "code",
   "execution_count": 5,
   "id": "c76bbdae",
   "metadata": {},
   "outputs": [
    {
     "name": "stdout",
     "output_type": "stream",
     "text": [
      "Requirement already satisfied: selenium in c:\\users\\yanda\\anaconda3\\lib\\site-packages (4.18.1)\n",
      "Requirement already satisfied: urllib3[socks]<3,>=1.26 in c:\\users\\yanda\\anaconda3\\lib\\site-packages (from selenium) (1.26.16)\n",
      "Requirement already satisfied: trio~=0.17 in c:\\users\\yanda\\anaconda3\\lib\\site-packages (from selenium) (0.24.0)\n",
      "Requirement already satisfied: trio-websocket~=0.9 in c:\\users\\yanda\\anaconda3\\lib\\site-packages (from selenium) (0.11.1)\n",
      "Requirement already satisfied: certifi>=2021.10.8 in c:\\users\\yanda\\anaconda3\\lib\\site-packages (from selenium) (2023.7.22)\n",
      "Requirement already satisfied: typing_extensions>=4.9.0 in c:\\users\\yanda\\anaconda3\\lib\\site-packages (from selenium) (4.10.0)\n",
      "Requirement already satisfied: attrs>=20.1.0 in c:\\users\\yanda\\anaconda3\\lib\\site-packages (from trio~=0.17->selenium) (22.1.0)\n",
      "Requirement already satisfied: sortedcontainers in c:\\users\\yanda\\anaconda3\\lib\\site-packages (from trio~=0.17->selenium) (2.4.0)\n",
      "Requirement already satisfied: idna in c:\\users\\yanda\\anaconda3\\lib\\site-packages (from trio~=0.17->selenium) (3.4)\n",
      "Requirement already satisfied: outcome in c:\\users\\yanda\\anaconda3\\lib\\site-packages (from trio~=0.17->selenium) (1.3.0.post0)\n",
      "Requirement already satisfied: sniffio>=1.3.0 in c:\\users\\yanda\\anaconda3\\lib\\site-packages (from trio~=0.17->selenium) (1.3.1)\n",
      "Requirement already satisfied: cffi>=1.14 in c:\\users\\yanda\\anaconda3\\lib\\site-packages (from trio~=0.17->selenium) (1.15.1)\n",
      "Requirement already satisfied: wsproto>=0.14 in c:\\users\\yanda\\anaconda3\\lib\\site-packages (from trio-websocket~=0.9->selenium) (1.2.0)\n",
      "Requirement already satisfied: PySocks!=1.5.7,<2.0,>=1.5.6 in c:\\users\\yanda\\anaconda3\\lib\\site-packages (from urllib3[socks]<3,>=1.26->selenium) (1.7.1)\n",
      "Requirement already satisfied: pycparser in c:\\users\\yanda\\anaconda3\\lib\\site-packages (from cffi>=1.14->trio~=0.17->selenium) (2.21)\n",
      "Requirement already satisfied: h11<1,>=0.9.0 in c:\\users\\yanda\\anaconda3\\lib\\site-packages (from wsproto>=0.14->trio-websocket~=0.9->selenium) (0.14.0)\n"
     ]
    }
   ],
   "source": [
    "!pip install selenium"
   ]
  },
  {
   "cell_type": "code",
   "execution_count": 6,
   "id": "fab49705",
   "metadata": {},
   "outputs": [
    {
     "name": "stdout",
     "output_type": "stream",
     "text": [
      "Requirement already satisfied: webdriver_manager in c:\\users\\yanda\\anaconda3\\lib\\site-packages (4.0.1)\n",
      "Requirement already satisfied: requests in c:\\users\\yanda\\anaconda3\\lib\\site-packages (from webdriver_manager) (2.31.0)\n",
      "Requirement already satisfied: python-dotenv in c:\\users\\yanda\\anaconda3\\lib\\site-packages (from webdriver_manager) (0.21.0)\n",
      "Requirement already satisfied: packaging in c:\\users\\yanda\\anaconda3\\lib\\site-packages (from webdriver_manager) (23.1)\n",
      "Requirement already satisfied: charset-normalizer<4,>=2 in c:\\users\\yanda\\anaconda3\\lib\\site-packages (from requests->webdriver_manager) (2.0.4)\n",
      "Requirement already satisfied: idna<4,>=2.5 in c:\\users\\yanda\\anaconda3\\lib\\site-packages (from requests->webdriver_manager) (3.4)\n",
      "Requirement already satisfied: urllib3<3,>=1.21.1 in c:\\users\\yanda\\anaconda3\\lib\\site-packages (from requests->webdriver_manager) (1.26.16)\n",
      "Requirement already satisfied: certifi>=2017.4.17 in c:\\users\\yanda\\anaconda3\\lib\\site-packages (from requests->webdriver_manager) (2023.7.22)\n"
     ]
    }
   ],
   "source": [
    "!pip install webdriver_manager"
   ]
  },
  {
   "cell_type": "code",
   "execution_count": 95,
   "id": "994d830b",
   "metadata": {},
   "outputs": [],
   "source": [
    "import selenium\n",
    "from selenium import webdriver\n",
    "from selenium.webdriver.chrome.options import Options\n",
    "from selenium.webdriver.common.by import By\n",
    "from selenium.webdriver.common.keys import Keys\n",
    "from webdriver_manager.chrome import ChromeDriverManager\n",
    "import pandas as pd"
   ]
  },
  {
   "cell_type": "code",
   "execution_count": 41,
   "id": "41b7e42e",
   "metadata": {},
   "outputs": [],
   "source": [
    "#Define options and set browser capabilities\n",
    "options=webdriver.ChromeOptions()"
   ]
  },
  {
   "cell_type": "code",
   "execution_count": 42,
   "id": "43adb0bd",
   "metadata": {},
   "outputs": [],
   "source": [
    "#create webdriver instance with options\n",
    "driver=webdriver.Chrome(options=options)"
   ]
  },
  {
   "cell_type": "code",
   "execution_count": 43,
   "id": "effbb882",
   "metadata": {},
   "outputs": [],
   "source": [
    "#Navigate to a website\n",
    "driver.get('https://www.myntra.com/')"
   ]
  },
  {
   "cell_type": "code",
   "execution_count": 44,
   "id": "ec1afcb2",
   "metadata": {},
   "outputs": [],
   "source": [
    "search=driver.find_element(By.XPATH,\".//input[@class='desktop-searchBar']\")"
   ]
  },
  {
   "cell_type": "code",
   "execution_count": 45,
   "id": "76ee0d88",
   "metadata": {},
   "outputs": [],
   "source": [
    "search.send_keys(\"cardigan tops\")"
   ]
  },
  {
   "cell_type": "code",
   "execution_count": 46,
   "id": "462d0959",
   "metadata": {},
   "outputs": [],
   "source": [
    "search.send_keys(Keys.ENTER)"
   ]
  },
  {
   "cell_type": "code",
   "execution_count": 53,
   "id": "68b04156",
   "metadata": {},
   "outputs": [
    {
     "name": "stdout",
     "output_type": "stream",
     "text": [
      "['JoE Hazel', 'JoE Hazel', 'JoE Hazel', 'Tokyo Talkies', 'Tokyo Talkies', 'Roadster', 'Tokyo Talkies', 'LULU & SKY', 'Ardene', 'LULU & SKY', 'Roadster', 'Roadster', 'Roadster']\n",
      "13\n"
     ]
    }
   ],
   "source": [
    "brand=driver.find_elements(By.XPATH,\".//h3[@class='product-brand']\")\n",
    "brands=[i.text for i in brand]\n",
    "print(brands)\n",
    "print(len(brands))"
   ]
  },
  {
   "cell_type": "code",
   "execution_count": 54,
   "id": "cd3d146b",
   "metadata": {},
   "outputs": [
    {
     "name": "stdout",
     "output_type": "stream",
     "text": [
      "['Woman Pink Cardigan', 'Woman Green Cardigan', 'Woman Black Cardigan', 'Crop Top With Cardigan', 'Crop Top With Cardigan', 'Solid Cardigan Set', 'Crop Top With Cardigan Sweater', 'Crop Top With Cardigan', 'Cardigan Style Crop Top', 'Mandarin Collar Cardigan Top', 'Solid Cardigan Set', 'Solid Cardigan Set', 'Solid Cardigan Set']\n",
      "13\n"
     ]
    }
   ],
   "source": [
    "product=driver.find_elements(By.XPATH,\".//h4[@class='product-product']\")\n",
    "products=[i.text for i in product]\n",
    "print(products)\n",
    "print(len(products))"
   ]
  },
  {
   "cell_type": "code",
   "execution_count": 55,
   "id": "0acc5858",
   "metadata": {},
   "outputs": [
    {
     "name": "stdout",
     "output_type": "stream",
     "text": [
      "['Rs. 699', 'Rs. 699', 'Rs. 699', 'Rs. 1956', 'Rs. 1399', 'Rs. 1079', 'Rs. 1549', 'Rs. 1856', 'Rs. 1899', 'Rs. 1681', 'Rs. 719', 'Rs. 839', 'Rs. 1079']\n",
      "13\n"
     ]
    }
   ],
   "source": [
    "price=driver.find_elements(By.XPATH,\".//span[@class='product-discountedPrice']\")\n",
    "prices=[i.text for i in price]\n",
    "print(prices)\n",
    "print(len(prices))"
   ]
  },
  {
   "cell_type": "code",
   "execution_count": 57,
   "id": "1474b9b7",
   "metadata": {},
   "outputs": [
    {
     "data": {
      "text/html": [
       "<div>\n",
       "<style scoped>\n",
       "    .dataframe tbody tr th:only-of-type {\n",
       "        vertical-align: middle;\n",
       "    }\n",
       "\n",
       "    .dataframe tbody tr th {\n",
       "        vertical-align: top;\n",
       "    }\n",
       "\n",
       "    .dataframe thead th {\n",
       "        text-align: right;\n",
       "    }\n",
       "</style>\n",
       "<table border=\"1\" class=\"dataframe\">\n",
       "  <thead>\n",
       "    <tr style=\"text-align: right;\">\n",
       "      <th></th>\n",
       "      <th>Brand</th>\n",
       "      <th>Desc</th>\n",
       "      <th>Price</th>\n",
       "    </tr>\n",
       "  </thead>\n",
       "  <tbody>\n",
       "  </tbody>\n",
       "</table>\n",
       "</div>"
      ],
      "text/plain": [
       "Empty DataFrame\n",
       "Columns: [Brand, Desc, Price]\n",
       "Index: []"
      ]
     },
     "execution_count": 57,
     "metadata": {},
     "output_type": "execute_result"
    }
   ],
   "source": [
    "df=pd.DataFrame(columns=[\"Brand\",\"Desc\",\"Price\"])\n",
    "df"
   ]
  },
  {
   "cell_type": "code",
   "execution_count": 58,
   "id": "790b0f23",
   "metadata": {},
   "outputs": [
    {
     "data": {
      "text/html": [
       "<div>\n",
       "<style scoped>\n",
       "    .dataframe tbody tr th:only-of-type {\n",
       "        vertical-align: middle;\n",
       "    }\n",
       "\n",
       "    .dataframe tbody tr th {\n",
       "        vertical-align: top;\n",
       "    }\n",
       "\n",
       "    .dataframe thead th {\n",
       "        text-align: right;\n",
       "    }\n",
       "</style>\n",
       "<table border=\"1\" class=\"dataframe\">\n",
       "  <thead>\n",
       "    <tr style=\"text-align: right;\">\n",
       "      <th></th>\n",
       "      <th>Brand</th>\n",
       "      <th>Desc</th>\n",
       "      <th>Price</th>\n",
       "    </tr>\n",
       "  </thead>\n",
       "  <tbody>\n",
       "    <tr>\n",
       "      <th>0</th>\n",
       "      <td>JoE Hazel</td>\n",
       "      <td>Woman Pink Cardigan</td>\n",
       "      <td>Rs. 699</td>\n",
       "    </tr>\n",
       "    <tr>\n",
       "      <th>1</th>\n",
       "      <td>JoE Hazel</td>\n",
       "      <td>Woman Green Cardigan</td>\n",
       "      <td>Rs. 699</td>\n",
       "    </tr>\n",
       "    <tr>\n",
       "      <th>2</th>\n",
       "      <td>JoE Hazel</td>\n",
       "      <td>Woman Black Cardigan</td>\n",
       "      <td>Rs. 699</td>\n",
       "    </tr>\n",
       "    <tr>\n",
       "      <th>3</th>\n",
       "      <td>Tokyo Talkies</td>\n",
       "      <td>Crop Top With Cardigan</td>\n",
       "      <td>Rs. 1956</td>\n",
       "    </tr>\n",
       "    <tr>\n",
       "      <th>4</th>\n",
       "      <td>Tokyo Talkies</td>\n",
       "      <td>Crop Top With Cardigan</td>\n",
       "      <td>Rs. 1399</td>\n",
       "    </tr>\n",
       "    <tr>\n",
       "      <th>5</th>\n",
       "      <td>Roadster</td>\n",
       "      <td>Solid Cardigan Set</td>\n",
       "      <td>Rs. 1079</td>\n",
       "    </tr>\n",
       "    <tr>\n",
       "      <th>6</th>\n",
       "      <td>Tokyo Talkies</td>\n",
       "      <td>Crop Top With Cardigan Sweater</td>\n",
       "      <td>Rs. 1549</td>\n",
       "    </tr>\n",
       "    <tr>\n",
       "      <th>7</th>\n",
       "      <td>LULU &amp; SKY</td>\n",
       "      <td>Crop Top With Cardigan</td>\n",
       "      <td>Rs. 1856</td>\n",
       "    </tr>\n",
       "    <tr>\n",
       "      <th>8</th>\n",
       "      <td>Ardene</td>\n",
       "      <td>Cardigan Style Crop Top</td>\n",
       "      <td>Rs. 1899</td>\n",
       "    </tr>\n",
       "    <tr>\n",
       "      <th>9</th>\n",
       "      <td>LULU &amp; SKY</td>\n",
       "      <td>Mandarin Collar Cardigan Top</td>\n",
       "      <td>Rs. 1681</td>\n",
       "    </tr>\n",
       "    <tr>\n",
       "      <th>10</th>\n",
       "      <td>Roadster</td>\n",
       "      <td>Solid Cardigan Set</td>\n",
       "      <td>Rs. 719</td>\n",
       "    </tr>\n",
       "    <tr>\n",
       "      <th>11</th>\n",
       "      <td>Roadster</td>\n",
       "      <td>Solid Cardigan Set</td>\n",
       "      <td>Rs. 839</td>\n",
       "    </tr>\n",
       "    <tr>\n",
       "      <th>12</th>\n",
       "      <td>Roadster</td>\n",
       "      <td>Solid Cardigan Set</td>\n",
       "      <td>Rs. 1079</td>\n",
       "    </tr>\n",
       "  </tbody>\n",
       "</table>\n",
       "</div>"
      ],
      "text/plain": [
       "            Brand                            Desc     Price\n",
       "0       JoE Hazel             Woman Pink Cardigan   Rs. 699\n",
       "1       JoE Hazel            Woman Green Cardigan   Rs. 699\n",
       "2       JoE Hazel            Woman Black Cardigan   Rs. 699\n",
       "3   Tokyo Talkies          Crop Top With Cardigan  Rs. 1956\n",
       "4   Tokyo Talkies          Crop Top With Cardigan  Rs. 1399\n",
       "5        Roadster              Solid Cardigan Set  Rs. 1079\n",
       "6   Tokyo Talkies  Crop Top With Cardigan Sweater  Rs. 1549\n",
       "7      LULU & SKY          Crop Top With Cardigan  Rs. 1856\n",
       "8          Ardene         Cardigan Style Crop Top  Rs. 1899\n",
       "9      LULU & SKY    Mandarin Collar Cardigan Top  Rs. 1681\n",
       "10       Roadster              Solid Cardigan Set   Rs. 719\n",
       "11       Roadster              Solid Cardigan Set   Rs. 839\n",
       "12       Roadster              Solid Cardigan Set  Rs. 1079"
      ]
     },
     "execution_count": 58,
     "metadata": {},
     "output_type": "execute_result"
    }
   ],
   "source": [
    "df['Brand']=brands\n",
    "df['Desc']=products\n",
    "df['Price']=prices\n",
    "df"
   ]
  },
  {
   "cell_type": "code",
   "execution_count": 59,
   "id": "df964087",
   "metadata": {},
   "outputs": [],
   "source": [
    "df.to_csv(\"myntra.csv\")"
   ]
  },
  {
   "cell_type": "code",
   "execution_count": 96,
   "id": "ab4e8796",
   "metadata": {},
   "outputs": [],
   "source": [
    "options=webdriver.ChromeOptions()"
   ]
  },
  {
   "cell_type": "code",
   "execution_count": 97,
   "id": "d1c1cf40",
   "metadata": {},
   "outputs": [],
   "source": [
    "driver=webdriver.Chrome(options=options)"
   ]
  },
  {
   "cell_type": "code",
   "execution_count": 98,
   "id": "8725b96f",
   "metadata": {},
   "outputs": [],
   "source": [
    "driver.get('https://www.amazon.in/')"
   ]
  },
  {
   "cell_type": "code",
   "execution_count": 99,
   "id": "5f755932",
   "metadata": {},
   "outputs": [],
   "source": [
    "search = driver.find_element(By.XPATH, \".//input[@id='twotabsearchtextbox']\")"
   ]
  },
  {
   "cell_type": "code",
   "execution_count": 100,
   "id": "d08fcf17",
   "metadata": {},
   "outputs": [],
   "source": [
    "search.send_keys(\"Dell laptops\")"
   ]
  },
  {
   "cell_type": "code",
   "execution_count": 102,
   "id": "729f701b",
   "metadata": {},
   "outputs": [],
   "source": [
    "search.send_keys(Keys.ENTER)"
   ]
  },
  {
   "cell_type": "code",
   "execution_count": 113,
   "id": "46dbb39c",
   "metadata": {},
   "outputs": [
    {
     "name": "stdout",
     "output_type": "stream",
     "text": [
      "['Sponsored\\nDell 15 Laptop, Intel Core i3-1115G4, 8GB/1TB + 256GB SSD/15.6\" (39.62cm) FHD with Comfort View/Mobile Connect/Windows 11 + MSO\\'21/15 Month McAfee/Spill-Resistant Keyboard/Carbon/Thin & Light-1.69kg', 'Sponsored\\nDell 14 Laptop, 12th Gen Intel Core i3-1215U Processor/8GB/512GB SSD/Intel UHD Graphics/14.0\"(35.56cm) FHD/Windows 11 + MSO\\'21/15 Month McAfee/Spill-Resistant Keyboard/Grey/Thin & Light 1.48kg', 'Dell 15 Laptop, Intel Core i3-1115G4 Processor/8GB DDR4/512GB SSD/Intel UHD Graphics/15.6\" (39.6cm) FHD 120Hz Refresh, 250 nits/Mobile Connect/Win 11+MSO\\'21/15 Month McAfee/Black/Thin & Light-1.66kg', 'Dell 15 Laptop, Intel Core i5-1135G7 Processor/16GB DDR4/512GB SSD/Intel UHD Graphic/15.6\" (39.562cm) FHD Display/Win 11+MSO\\'21/15 Month McAfee/Spill-Resistant Keyboard/Carbon/Thin & Light 1.69kg', 'Dell 15 Laptop, Intel Core i5-1135G7 Processor/ 8GB/ 1TB+256GB SSD/15.6\"(39.62cm) FHD Display/Mobile Connect/Windows 11 + MSO\\'21/15 Month McAfee/Spill-Resistant Keyboard/Black/Thin & Light 1.69kg', 'Dell 15 Laptop, Intel Core i5-1135G7 Processor/ 8GB DDR4/ 512GB SSD/ 15.6\" (39.62cm) FHD/Mobile Connect/Windows 11 + MSO\\'21/15 Month McAfee/Spill-Resistant Keyboard/Carbon Black/Thin & Light-1.69kg', 'Dell 14 Laptop, 12th Gen Intel Core i5-1235U Processor, 16GB, 512GB, 14.0\" (35.56cm) FHD Display, Windows 11 + MSO\\'21, Spill-Resistant Keyboard, 15 Month Mcafee, Black, Thin & Light- 1.48kg', 'Dell Inspiron 3530 Laptop, 13th Gen Intel Core i5-1335U Processor/16GB/1TB SSD/15.6\" (39.62cm) FHD Display/Backlit Keyboard/Platinum Silver/Win 11 + MSO\\'21/15 Month McAfee/Thin & Light- 1.66kg', 'Dell 14 Laptop, 12th Gen Intel Core i3-1215U Processor/8GB/512GB SSD/Intel UHD Graphics/14.0\"(35.56cm) FHD/Windows 11 + MSO\\'21/15 Month McAfee/Spill-Resistant Keyboard/Grey/Thin & Light 1.48kg', 'Dell G15 5520 Gaming Laptop, Intel i5-12500H/16GB DDR5/1TB SSD/15.6\" (39.62cm) FHD WVA AG 120Hz 250 nits/NVIDIA RTX 3050, 4 GB GDDR6/Win 11 + MSO\\'21/15 Months McAfee/Backlit KB/Dark Shadow Grey/2.81kg', 'Sponsored\\nLenovo ThinkBook 15 Intel 12th Gen Core i5 15.6\" (39.62cm) FHD 250 Nits Antiglare Thin and Light Laptop (8GB/512GB SSD/Windows 11 Home/Backlit/Mineral Grey/1Y Premier Support/1.7 Kg), 21DJ00EXIH', 'Sponsored\\nLenovo IdeaPad Slim 3 AMD Ryzen 3 7320U 15.6 inch (39.6cm) FHD Laptop (8GB/512GB SSD/Windows 11/Office 2021/Alexa Built-in/3 Month Game Pass/Arctic Grey/1.62Kg), 82XQ008DIN', 'Dell 14 Laptop, AMD Ryzen R5-5500U/ 8GB DDR4, 2400 MHz/ 512GB/ 14.0\" (35.56cm) FHD Display with Comfort View/Windows 11 + MSO\\'21/15 Month McAfee/Spill-Resistant Keyboard/Carbon Black/ 1.48kg', 'Dell 15 Laptop, Intel 12th Gen Core i3-1215U Proc/8GB DDR4/512GB SSD/Intel UHD Graphic/15.6\" (38cm) FHD Display/Spill-Resistant Keyboard/Win11+MSO\\'21/15 Month McAfee/Black/Thin & Light 1.69kg', 'Dell Inspiron 3530 Laptop, Intel Core i7-1355U Processor, 16GB, 512GB, 15.6\" (39.62cm) FHD WVA AG 120Hz, Backlit KB + FPR, Win 11 + MSO\\'21, 15 Month McAfee, Silver, 1.62kg', 'Dell G15 5530 Gaming Laptop, Intel i7-13650HX/16GB/1TB SSD/NVIDIA RTX 3050, 6 GB GDDR6/15.6\" (39.62cm) FHD AG 120Hz 250 nits/Backlit KB RGB/Dark Shadow Grey/Win 11+MSO\\'21/15 Month McAfee/2.65kg', 'Dell G15 5520 Gaming Laptop, Intel i5-12500H, 16GB DDR5, 512GB SSD, NVIDIA RTX 3050 (4GB GDDR6), 15.6\"(39.62cm) FHD 120Hz 250 nits Display, Backlit KB Orange, Win 11 + MSO\\'21, Dark Shadow Grey, 2.81kg', 'Dell 14 Metal Body Premium Laptop, Intel Core i5-1235U Proc/16GB DDR4/512GB SSD/Intel UHD Graphics/14.0\" (35.56cm) FHD/Backlit Keyboard/Thin & Light 1.48kg/Win 11 + MSO\\'21/15 Month McAfee/Dark Silver', 'Dell G15-5520 Gaming Laptop, Intel i5-12500H/8GB DDR5/512GB SSD/Win 11 + MSO\\'21/NVIDIA RTX 3050 (4GB GDDR6)/15.6\" (39.62cm) FHD WVA AG 120Hz 250 nits/Backlit KB Orange/Dark Shadow Grey/2.81kg', 'Dell Inspiron 3520 Laptop, Intel Core i5-1235U Processor, 8GB, 512GB, 15.6\" (39.62cm) FHD WVA AG 120Hz 250 nits, Win 11 + MSO\\'21, 15 Month MCAfee, Black, 1.65kg', 'Sponsored\\nMSI Stealth 15, Intel 13th Gen. i7-13620H, 40CM FHD 144Hz Gaming Laptop (8GBx2/1TB NVMe SSD/Windows 11 Home/Nvidia GeForce RTX4050, 6GB GDDR6/Black/2.1Kg), A13VE-034IN', 'Sponsored\\nLenovo ThinkPad E14 Intel Core i5 12th Gen 14\" FHD Thin and Light Laptop (16GB RAM/1TB SSD/Windows 11 Home/MS Office H&S 2021/FPR/Backlit Keyboard/Black/1.59 kg), 21E3S04U00']\n",
      "22\n"
     ]
    }
   ],
   "source": [
    "feature=driver.find_elements(By.XPATH,\".//div[@class='a-section a-spacing-none puis-padding-right-small s-title-instructions-style']\")\n",
    "features=[i.text for i in feature]\n",
    "print(features)\n",
    "print(len(features))"
   ]
  },
  {
   "cell_type": "code",
   "execution_count": 114,
   "id": "240d26ed",
   "metadata": {},
   "outputs": [
    {
     "name": "stdout",
     "output_type": "stream",
     "text": [
      "['34,990', '35,990', '33,990', '47,990', '44,990', '43,990', '49,990', '67,980', '35,990', '76,990', '53,990', '34,990', '35,990', '35,990', '71,490', '99,990', '71,990', '55,990', '65,990', '46,600', '199', '1,29,990', '74,000']\n",
      "23\n"
     ]
    }
   ],
   "source": [
    "price=driver.find_elements(By.XPATH,\".//span[@class='a-price-whole']\")\n",
    "prices=[i.text for i in price]\n",
    "print(prices)\n",
    "print(len(prices))"
   ]
  },
  {
   "cell_type": "code",
   "execution_count": 129,
   "id": "f5ceb74b",
   "metadata": {},
   "outputs": [
    {
     "name": "stdout",
     "output_type": "stream",
     "text": [
      "['', 'FREE delivery', 'Or fastest delivery', '', 'FREE delivery', 'Or fastest delivery', 'FREE delivery', 'Or fastest delivery', 'FREE delivery', 'Or fastest delivery', 'FREE delivery', 'Or fastest delivery', 'FREE delivery', 'Or fastest delivery', 'FREE delivery', 'Or fastest delivery', 'FREE delivery', 'Or fastest delivery', '₹66,999', 'FREE delivery', 'Or fastest delivery', 'FREE delivery', 'Or fastest delivery', '', 'FREE delivery', 'Or fastest delivery', '', 'FREE delivery', 'Or fastest delivery', 'FREE delivery', 'Or fastest delivery', 'FREE delivery', 'Or fastest delivery', 'FREE delivery', 'Or fastest delivery', 'FREE delivery', 'Or fastest delivery', 'FREE delivery', 'Or fastest delivery', 'FREE delivery', 'Or fastest delivery', 'FREE delivery', 'Or fastest delivery', 'FREE delivery', '₹46,550', '', 'with coupon', 'FREE delivery', '', 'FREE delivery', 'Or fastest delivery', '', 'FREE delivery', 'Do something wonderful with Intel® Core™ laptops', 'AMD powered gaming laptops']\n",
      "55\n"
     ]
    }
   ],
   "source": [
    "dt=driver.find_elements(By.XPATH,\".//span[@class='a-color-base']\")\n",
    "dts=[i.text for i in dt]\n",
    "print(dts)\n",
    "print(len(dts))"
   ]
  },
  {
   "cell_type": "code",
   "execution_count": 133,
   "id": "2f5b76bd",
   "metadata": {},
   "outputs": [
    {
     "data": {
      "text/html": [
       "<div>\n",
       "<style scoped>\n",
       "    .dataframe tbody tr th:only-of-type {\n",
       "        vertical-align: middle;\n",
       "    }\n",
       "\n",
       "    .dataframe tbody tr th {\n",
       "        vertical-align: top;\n",
       "    }\n",
       "\n",
       "    .dataframe thead th {\n",
       "        text-align: right;\n",
       "    }\n",
       "</style>\n",
       "<table border=\"1\" class=\"dataframe\">\n",
       "  <thead>\n",
       "    <tr style=\"text-align: right;\">\n",
       "      <th></th>\n",
       "      <th>Features</th>\n",
       "      <th>Price</th>\n",
       "      <th>Deliverytype</th>\n",
       "    </tr>\n",
       "  </thead>\n",
       "  <tbody>\n",
       "  </tbody>\n",
       "</table>\n",
       "</div>"
      ],
      "text/plain": [
       "Empty DataFrame\n",
       "Columns: [Features, Price, Deliverytype]\n",
       "Index: []"
      ]
     },
     "execution_count": 133,
     "metadata": {},
     "output_type": "execute_result"
    }
   ],
   "source": [
    "df1=pd.DataFrame(columns=['Features',\"Price\",\"Deliverytype\"])\n",
    "df1"
   ]
  },
  {
   "cell_type": "code",
   "execution_count": 134,
   "id": "e926598b",
   "metadata": {},
   "outputs": [
    {
     "data": {
      "text/html": [
       "<div>\n",
       "<style scoped>\n",
       "    .dataframe tbody tr th:only-of-type {\n",
       "        vertical-align: middle;\n",
       "    }\n",
       "\n",
       "    .dataframe tbody tr th {\n",
       "        vertical-align: top;\n",
       "    }\n",
       "\n",
       "    .dataframe thead th {\n",
       "        text-align: right;\n",
       "    }\n",
       "</style>\n",
       "<table border=\"1\" class=\"dataframe\">\n",
       "  <thead>\n",
       "    <tr style=\"text-align: right;\">\n",
       "      <th></th>\n",
       "      <th>Features</th>\n",
       "      <th>Price</th>\n",
       "      <th>Deliverytype</th>\n",
       "    </tr>\n",
       "  </thead>\n",
       "  <tbody>\n",
       "    <tr>\n",
       "      <th>0</th>\n",
       "      <td>Sponsored\\nDell 15 Laptop, Intel Core i3-1115G...</td>\n",
       "      <td>34,990</td>\n",
       "      <td></td>\n",
       "    </tr>\n",
       "    <tr>\n",
       "      <th>1</th>\n",
       "      <td>Sponsored\\nDell 14 Laptop, 12th Gen Intel Core...</td>\n",
       "      <td>35,990</td>\n",
       "      <td>FREE delivery</td>\n",
       "    </tr>\n",
       "    <tr>\n",
       "      <th>2</th>\n",
       "      <td>Dell 15 Laptop, Intel Core i3-1115G4 Processor...</td>\n",
       "      <td>33,990</td>\n",
       "      <td>Or fastest delivery</td>\n",
       "    </tr>\n",
       "    <tr>\n",
       "      <th>3</th>\n",
       "      <td>Dell 15 Laptop, Intel Core i5-1135G7 Processor...</td>\n",
       "      <td>47,990</td>\n",
       "      <td></td>\n",
       "    </tr>\n",
       "    <tr>\n",
       "      <th>4</th>\n",
       "      <td>Dell 15 Laptop, Intel Core i5-1135G7 Processor...</td>\n",
       "      <td>44,990</td>\n",
       "      <td>FREE delivery</td>\n",
       "    </tr>\n",
       "    <tr>\n",
       "      <th>5</th>\n",
       "      <td>Dell 15 Laptop, Intel Core i5-1135G7 Processor...</td>\n",
       "      <td>43,990</td>\n",
       "      <td>Or fastest delivery</td>\n",
       "    </tr>\n",
       "    <tr>\n",
       "      <th>6</th>\n",
       "      <td>Dell 14 Laptop, 12th Gen Intel Core i5-1235U P...</td>\n",
       "      <td>49,990</td>\n",
       "      <td>FREE delivery</td>\n",
       "    </tr>\n",
       "    <tr>\n",
       "      <th>7</th>\n",
       "      <td>Dell Inspiron 3530 Laptop, 13th Gen Intel Core...</td>\n",
       "      <td>67,980</td>\n",
       "      <td>Or fastest delivery</td>\n",
       "    </tr>\n",
       "    <tr>\n",
       "      <th>8</th>\n",
       "      <td>Dell 14 Laptop, 12th Gen Intel Core i3-1215U P...</td>\n",
       "      <td>35,990</td>\n",
       "      <td>FREE delivery</td>\n",
       "    </tr>\n",
       "    <tr>\n",
       "      <th>9</th>\n",
       "      <td>Dell G15 5520 Gaming Laptop, Intel i5-12500H/1...</td>\n",
       "      <td>76,990</td>\n",
       "      <td>Or fastest delivery</td>\n",
       "    </tr>\n",
       "  </tbody>\n",
       "</table>\n",
       "</div>"
      ],
      "text/plain": [
       "                                            Features   Price  \\\n",
       "0  Sponsored\\nDell 15 Laptop, Intel Core i3-1115G...  34,990   \n",
       "1  Sponsored\\nDell 14 Laptop, 12th Gen Intel Core...  35,990   \n",
       "2  Dell 15 Laptop, Intel Core i3-1115G4 Processor...  33,990   \n",
       "3  Dell 15 Laptop, Intel Core i5-1135G7 Processor...  47,990   \n",
       "4  Dell 15 Laptop, Intel Core i5-1135G7 Processor...  44,990   \n",
       "5  Dell 15 Laptop, Intel Core i5-1135G7 Processor...  43,990   \n",
       "6  Dell 14 Laptop, 12th Gen Intel Core i5-1235U P...  49,990   \n",
       "7  Dell Inspiron 3530 Laptop, 13th Gen Intel Core...  67,980   \n",
       "8  Dell 14 Laptop, 12th Gen Intel Core i3-1215U P...  35,990   \n",
       "9  Dell G15 5520 Gaming Laptop, Intel i5-12500H/1...  76,990   \n",
       "\n",
       "          Deliverytype  \n",
       "0                       \n",
       "1        FREE delivery  \n",
       "2  Or fastest delivery  \n",
       "3                       \n",
       "4        FREE delivery  \n",
       "5  Or fastest delivery  \n",
       "6        FREE delivery  \n",
       "7  Or fastest delivery  \n",
       "8        FREE delivery  \n",
       "9  Or fastest delivery  "
      ]
     },
     "execution_count": 134,
     "metadata": {},
     "output_type": "execute_result"
    }
   ],
   "source": [
    "df1['Features']=features[0:10]\n",
    "df1['Price']=prices[0:10]\n",
    "df1['Deliverytype']=dts[0:10]\n",
    "df1"
   ]
  },
  {
   "cell_type": "code",
   "execution_count": 135,
   "id": "6dee186b",
   "metadata": {},
   "outputs": [],
   "source": [
    "df1.to_csv(\"Dell.csv\")"
   ]
  },
  {
   "cell_type": "code",
   "execution_count": 136,
   "id": "6d09f236",
   "metadata": {},
   "outputs": [],
   "source": [
    "options=webdriver.ChromeOptions()\n",
    "driver=webdriver.Chrome(options=options)\n",
    "driver.get('https://www.myntra.com/')\n",
    "search=driver.find_element(By.XPATH,\".//input[@class='desktop-searchBar']\")"
   ]
  },
  {
   "cell_type": "code",
   "execution_count": 137,
   "id": "2f3e8786",
   "metadata": {},
   "outputs": [],
   "source": [
    "search.send_keys('smart watches')\n",
    "search.send_keys(Keys.ENTER)"
   ]
  },
  {
   "cell_type": "code",
   "execution_count": 139,
   "id": "4b9b0fa7",
   "metadata": {},
   "outputs": [
    {
     "name": "stdout",
     "output_type": "stream",
     "text": [
      "['pebble', 'Fire-Boltt', 'pebble', 'NOISE', 'boAt', 'pebble', 'pebble', 'boAt', 'pebble', 'Fire-Boltt', 'Fire-Boltt', 'boAt', 'pebble', 'Fire-Boltt', 'boAt', 'CMF by Nothing', 'NOISE', 'Fire-Boltt', 'NOISE', 'Fire-Boltt', 'boAt', 'pebble', 'Fire-Boltt', 'NOISE', 'Fire-Boltt', 'boAt', 'Fire-Boltt', 'boAt', 'HAMMER', 'NOISE', 'Fire-Boltt', 'pebble', 'Fire-Boltt', 'NOISE', 'Fire-Boltt', 'NOISE', 'pebble', 'NOISE', 'pebble', 'NOISE', 'boAt', 'Fire-Boltt', 'boAt', 'Boult', 'boAt', 'Fastrack', 'NOISE', 'Fire-Boltt', 'boAt', 'Timex']\n",
      "50\n"
     ]
    }
   ],
   "source": [
    "br=driver.find_elements(By.XPATH,\".//h3[@class='product-brand']\")\n",
    "brs=[i.text for i in br]\n",
    "print(brs)\n",
    "print(len(brs))"
   ]
  },
  {
   "cell_type": "code",
   "execution_count": 153,
   "id": "9346f42e",
   "metadata": {},
   "outputs": [
    {
     "name": "stdout",
     "output_type": "stream",
     "text": [
      "['Celia 1.32\" Display SmartWatch', 'Starlight Bluetooth Smartwatch', 'Women 1.27\" Smart Watch', 'Fit Posh Smartwatch', 'Ultima Prism Smart Watch', 'Cosmos Quest Smartwatch', 'Cosmos Ultra 1.91\" BT Calling Smartwatch', 'Unisex Wave Genesis Smartwatch', 'Women 1.27\" Smart Watch', 'Hulk 1.78 inch Smartwatch', 'Eclipse Luxe 1.43\" Amoled', 'Ultima BT Calling Smartwatch', 'Cosmos Ultra 1.91\" BT Calling Smartwatch', 'Hurricane Smartwatch', 'Unisex Ultima Prism Smartwatch', 'Watch Pro', 'Fit Posh Smartwatch', 'Eclipse Luxe 1.43\" Amoled', 'Mettle EliteEdition Smartwatch', 'Rock AMOLED Display Smartwatch', 'Lunar Connect Ace', 'Celia 1.32\" Display SmartWatch', 'Aura BT Calling Smartwatch', 'ColorFit Icon 2 Smartwatch', 'Crusader Amoled 1.43BT Calling', 'Storm Plus AMOLED Smart Watch', 'Hurricane Smartwatch', 'Unisex Wave Genesis Smartwatch', 'Unisex Pulse 2.0 Smart Watch', 'NoiseFit Evolve 3 Smartwatch', 'Hulk 1.78 inch Smartwatch', 'Hive 1.39\" Display Smart Watch', 'Hurricane Smartwatch', 'ColorFit Icon 2 Smartwatch', 'Cobra AMOLED Smart Watch', 'ColorFit Pro 5 Smartwatch', 'Cosmos Ultra 1.91\" BT Calling Smartwatch', 'Color Fit Loop Smartwatch', 'BT Calling Luxury Smartwatch', 'Fit Posh Smartwatch', 'Unisex Ultima Prism Smartwatch', 'Commando BT Calling Smartwatch', 'Lunar Mirage Smartwatch', 'Striker Pro Smart Watch', 'Enigma Z40 Smartwatch', 'FS2 BT Calling Smartwatch', 'ColorFit Vision 3 Smartwatch', 'Supernova Bluetooth SmartWatch', 'Enigma X400 Smartwatch', 'iConnect Gen+ Smart Watch']\n",
      "50\n"
     ]
    }
   ],
   "source": [
    "product=driver.find_elements(By.XPATH,\".//h4[@class='product-product']\")\n",
    "products=[i.text for i in product]\n",
    "print(products)\n",
    "print(len(products))"
   ]
  },
  {
   "cell_type": "code",
   "execution_count": 154,
   "id": "187453d9",
   "metadata": {},
   "outputs": [
    {
     "name": "stdout",
     "output_type": "stream",
     "text": [
      "['Rs. 1599', 'Rs. 2299', 'Rs. 1799', 'Rs. 2349', 'Rs. 2499', 'Rs. 1599', 'Rs. 1899', 'Rs. 2299', 'Rs. 1799', 'Rs. 1799', 'Rs. 1899', 'Rs. 1599', 'Rs. 1700', 'Rs. 2349', 'Rs. 3499', 'Rs. 1799', 'Rs. 1999', 'Rs. 2249', 'Rs. 3199', 'Rs. 1999', 'Rs. 2299', 'Rs. 1999', 'Rs. 1799', 'Rs. 1899', 'Rs. 1899', 'Rs. 1850', 'Rs. 1899', 'Rs. 1849', 'Rs. 2449', 'Rs. 1799', 'Rs. 1699', 'Rs. 1899', 'Rs. 1799', 'Rs. 1899', 'Rs. 3999', 'Rs. 1599', 'Rs. 2499', 'Rs. 1999', 'Rs. 1799', 'Rs. 2599', 'Rs. 2499', 'Rs. 1599', 'Rs. 2499', 'Rs. 4799', 'Rs. 1999', 'Rs. 3499', 'Rs. 1899', 'Rs. 4899', 'Rs. 2527']\n",
      "49\n"
     ]
    }
   ],
   "source": [
    "p=driver.find_elements(By.XPATH,\".//span[@class='product-discountedPrice']\")\n",
    "ps=[i.text for i in p]\n",
    "print(ps)\n",
    "print(len(ps))"
   ]
  },
  {
   "cell_type": "code",
   "execution_count": 159,
   "id": "fd7dd686",
   "metadata": {},
   "outputs": [
    {
     "data": {
      "text/html": [
       "<div>\n",
       "<style scoped>\n",
       "    .dataframe tbody tr th:only-of-type {\n",
       "        vertical-align: middle;\n",
       "    }\n",
       "\n",
       "    .dataframe tbody tr th {\n",
       "        vertical-align: top;\n",
       "    }\n",
       "\n",
       "    .dataframe thead th {\n",
       "        text-align: right;\n",
       "    }\n",
       "</style>\n",
       "<table border=\"1\" class=\"dataframe\">\n",
       "  <thead>\n",
       "    <tr style=\"text-align: right;\">\n",
       "      <th></th>\n",
       "      <th>Brands</th>\n",
       "      <th>Prices</th>\n",
       "      <th>Features</th>\n",
       "    </tr>\n",
       "  </thead>\n",
       "  <tbody>\n",
       "  </tbody>\n",
       "</table>\n",
       "</div>"
      ],
      "text/plain": [
       "Empty DataFrame\n",
       "Columns: [Brands, Prices, Features]\n",
       "Index: []"
      ]
     },
     "execution_count": 159,
     "metadata": {},
     "output_type": "execute_result"
    }
   ],
   "source": [
    "df2=pd.DataFrame(columns=[\"Brands\",\"Prices\",\"Features\"])\n",
    "df2"
   ]
  },
  {
   "cell_type": "code",
   "execution_count": 163,
   "id": "8a697b2f",
   "metadata": {},
   "outputs": [
    {
     "data": {
      "text/html": [
       "<div>\n",
       "<style scoped>\n",
       "    .dataframe tbody tr th:only-of-type {\n",
       "        vertical-align: middle;\n",
       "    }\n",
       "\n",
       "    .dataframe tbody tr th {\n",
       "        vertical-align: top;\n",
       "    }\n",
       "\n",
       "    .dataframe thead th {\n",
       "        text-align: right;\n",
       "    }\n",
       "</style>\n",
       "<table border=\"1\" class=\"dataframe\">\n",
       "  <thead>\n",
       "    <tr style=\"text-align: right;\">\n",
       "      <th></th>\n",
       "      <th>Brands</th>\n",
       "      <th>Prices</th>\n",
       "      <th>Features</th>\n",
       "    </tr>\n",
       "  </thead>\n",
       "  <tbody>\n",
       "    <tr>\n",
       "      <th>0</th>\n",
       "      <td>pebble</td>\n",
       "      <td>Rs. 1599</td>\n",
       "      <td>Celia 1.32\" Display SmartWatch</td>\n",
       "    </tr>\n",
       "    <tr>\n",
       "      <th>1</th>\n",
       "      <td>Fire-Boltt</td>\n",
       "      <td>Rs. 2299</td>\n",
       "      <td>Starlight Bluetooth Smartwatch</td>\n",
       "    </tr>\n",
       "    <tr>\n",
       "      <th>2</th>\n",
       "      <td>pebble</td>\n",
       "      <td>Rs. 1799</td>\n",
       "      <td>Women 1.27\" Smart Watch</td>\n",
       "    </tr>\n",
       "    <tr>\n",
       "      <th>3</th>\n",
       "      <td>NOISE</td>\n",
       "      <td>Rs. 2349</td>\n",
       "      <td>Fit Posh Smartwatch</td>\n",
       "    </tr>\n",
       "    <tr>\n",
       "      <th>4</th>\n",
       "      <td>boAt</td>\n",
       "      <td>Rs. 2499</td>\n",
       "      <td>Ultima Prism Smart Watch</td>\n",
       "    </tr>\n",
       "    <tr>\n",
       "      <th>5</th>\n",
       "      <td>pebble</td>\n",
       "      <td>Rs. 1599</td>\n",
       "      <td>Cosmos Quest Smartwatch</td>\n",
       "    </tr>\n",
       "    <tr>\n",
       "      <th>6</th>\n",
       "      <td>pebble</td>\n",
       "      <td>Rs. 1899</td>\n",
       "      <td>Cosmos Ultra 1.91\" BT Calling Smartwatch</td>\n",
       "    </tr>\n",
       "    <tr>\n",
       "      <th>7</th>\n",
       "      <td>boAt</td>\n",
       "      <td>Rs. 2299</td>\n",
       "      <td>Unisex Wave Genesis Smartwatch</td>\n",
       "    </tr>\n",
       "    <tr>\n",
       "      <th>8</th>\n",
       "      <td>pebble</td>\n",
       "      <td>Rs. 1799</td>\n",
       "      <td>Women 1.27\" Smart Watch</td>\n",
       "    </tr>\n",
       "    <tr>\n",
       "      <th>9</th>\n",
       "      <td>Fire-Boltt</td>\n",
       "      <td>Rs. 1799</td>\n",
       "      <td>Hulk 1.78 inch Smartwatch</td>\n",
       "    </tr>\n",
       "    <tr>\n",
       "      <th>10</th>\n",
       "      <td>Fire-Boltt</td>\n",
       "      <td>Rs. 1899</td>\n",
       "      <td>Eclipse Luxe 1.43\" Amoled</td>\n",
       "    </tr>\n",
       "    <tr>\n",
       "      <th>11</th>\n",
       "      <td>boAt</td>\n",
       "      <td>Rs. 1599</td>\n",
       "      <td>Ultima BT Calling Smartwatch</td>\n",
       "    </tr>\n",
       "    <tr>\n",
       "      <th>12</th>\n",
       "      <td>pebble</td>\n",
       "      <td>Rs. 1700</td>\n",
       "      <td>Cosmos Ultra 1.91\" BT Calling Smartwatch</td>\n",
       "    </tr>\n",
       "    <tr>\n",
       "      <th>13</th>\n",
       "      <td>Fire-Boltt</td>\n",
       "      <td>Rs. 2349</td>\n",
       "      <td>Hurricane Smartwatch</td>\n",
       "    </tr>\n",
       "    <tr>\n",
       "      <th>14</th>\n",
       "      <td>boAt</td>\n",
       "      <td>Rs. 3499</td>\n",
       "      <td>Unisex Ultima Prism Smartwatch</td>\n",
       "    </tr>\n",
       "    <tr>\n",
       "      <th>15</th>\n",
       "      <td>CMF by Nothing</td>\n",
       "      <td>Rs. 1799</td>\n",
       "      <td>Watch Pro</td>\n",
       "    </tr>\n",
       "    <tr>\n",
       "      <th>16</th>\n",
       "      <td>NOISE</td>\n",
       "      <td>Rs. 1999</td>\n",
       "      <td>Fit Posh Smartwatch</td>\n",
       "    </tr>\n",
       "    <tr>\n",
       "      <th>17</th>\n",
       "      <td>Fire-Boltt</td>\n",
       "      <td>Rs. 2249</td>\n",
       "      <td>Eclipse Luxe 1.43\" Amoled</td>\n",
       "    </tr>\n",
       "    <tr>\n",
       "      <th>18</th>\n",
       "      <td>NOISE</td>\n",
       "      <td>Rs. 3199</td>\n",
       "      <td>Mettle EliteEdition Smartwatch</td>\n",
       "    </tr>\n",
       "    <tr>\n",
       "      <th>19</th>\n",
       "      <td>Fire-Boltt</td>\n",
       "      <td>Rs. 1999</td>\n",
       "      <td>Rock AMOLED Display Smartwatch</td>\n",
       "    </tr>\n",
       "    <tr>\n",
       "      <th>20</th>\n",
       "      <td>boAt</td>\n",
       "      <td>Rs. 2299</td>\n",
       "      <td>Lunar Connect Ace</td>\n",
       "    </tr>\n",
       "    <tr>\n",
       "      <th>21</th>\n",
       "      <td>pebble</td>\n",
       "      <td>Rs. 1999</td>\n",
       "      <td>Celia 1.32\" Display SmartWatch</td>\n",
       "    </tr>\n",
       "    <tr>\n",
       "      <th>22</th>\n",
       "      <td>Fire-Boltt</td>\n",
       "      <td>Rs. 1799</td>\n",
       "      <td>Aura BT Calling Smartwatch</td>\n",
       "    </tr>\n",
       "    <tr>\n",
       "      <th>23</th>\n",
       "      <td>NOISE</td>\n",
       "      <td>Rs. 1899</td>\n",
       "      <td>ColorFit Icon 2 Smartwatch</td>\n",
       "    </tr>\n",
       "    <tr>\n",
       "      <th>24</th>\n",
       "      <td>Fire-Boltt</td>\n",
       "      <td>Rs. 1899</td>\n",
       "      <td>Crusader Amoled 1.43BT Calling</td>\n",
       "    </tr>\n",
       "    <tr>\n",
       "      <th>25</th>\n",
       "      <td>boAt</td>\n",
       "      <td>Rs. 1850</td>\n",
       "      <td>Storm Plus AMOLED Smart Watch</td>\n",
       "    </tr>\n",
       "    <tr>\n",
       "      <th>26</th>\n",
       "      <td>Fire-Boltt</td>\n",
       "      <td>Rs. 1899</td>\n",
       "      <td>Hurricane Smartwatch</td>\n",
       "    </tr>\n",
       "    <tr>\n",
       "      <th>27</th>\n",
       "      <td>boAt</td>\n",
       "      <td>Rs. 1849</td>\n",
       "      <td>Unisex Wave Genesis Smartwatch</td>\n",
       "    </tr>\n",
       "    <tr>\n",
       "      <th>28</th>\n",
       "      <td>HAMMER</td>\n",
       "      <td>Rs. 2449</td>\n",
       "      <td>Unisex Pulse 2.0 Smart Watch</td>\n",
       "    </tr>\n",
       "    <tr>\n",
       "      <th>29</th>\n",
       "      <td>NOISE</td>\n",
       "      <td>Rs. 1799</td>\n",
       "      <td>NoiseFit Evolve 3 Smartwatch</td>\n",
       "    </tr>\n",
       "  </tbody>\n",
       "</table>\n",
       "</div>"
      ],
      "text/plain": [
       "            Brands    Prices                                  Features\n",
       "0           pebble  Rs. 1599            Celia 1.32\" Display SmartWatch\n",
       "1       Fire-Boltt  Rs. 2299            Starlight Bluetooth Smartwatch\n",
       "2           pebble  Rs. 1799                   Women 1.27\" Smart Watch\n",
       "3            NOISE  Rs. 2349                       Fit Posh Smartwatch\n",
       "4             boAt  Rs. 2499                  Ultima Prism Smart Watch\n",
       "5           pebble  Rs. 1599                   Cosmos Quest Smartwatch\n",
       "6           pebble  Rs. 1899  Cosmos Ultra 1.91\" BT Calling Smartwatch\n",
       "7             boAt  Rs. 2299            Unisex Wave Genesis Smartwatch\n",
       "8           pebble  Rs. 1799                   Women 1.27\" Smart Watch\n",
       "9       Fire-Boltt  Rs. 1799                 Hulk 1.78 inch Smartwatch\n",
       "10      Fire-Boltt  Rs. 1899                 Eclipse Luxe 1.43\" Amoled\n",
       "11            boAt  Rs. 1599              Ultima BT Calling Smartwatch\n",
       "12          pebble  Rs. 1700  Cosmos Ultra 1.91\" BT Calling Smartwatch\n",
       "13      Fire-Boltt  Rs. 2349                      Hurricane Smartwatch\n",
       "14            boAt  Rs. 3499            Unisex Ultima Prism Smartwatch\n",
       "15  CMF by Nothing  Rs. 1799                                 Watch Pro\n",
       "16           NOISE  Rs. 1999                       Fit Posh Smartwatch\n",
       "17      Fire-Boltt  Rs. 2249                 Eclipse Luxe 1.43\" Amoled\n",
       "18           NOISE  Rs. 3199            Mettle EliteEdition Smartwatch\n",
       "19      Fire-Boltt  Rs. 1999            Rock AMOLED Display Smartwatch\n",
       "20            boAt  Rs. 2299                         Lunar Connect Ace\n",
       "21          pebble  Rs. 1999            Celia 1.32\" Display SmartWatch\n",
       "22      Fire-Boltt  Rs. 1799                Aura BT Calling Smartwatch\n",
       "23           NOISE  Rs. 1899                ColorFit Icon 2 Smartwatch\n",
       "24      Fire-Boltt  Rs. 1899            Crusader Amoled 1.43BT Calling\n",
       "25            boAt  Rs. 1850             Storm Plus AMOLED Smart Watch\n",
       "26      Fire-Boltt  Rs. 1899                      Hurricane Smartwatch\n",
       "27            boAt  Rs. 1849            Unisex Wave Genesis Smartwatch\n",
       "28          HAMMER  Rs. 2449              Unisex Pulse 2.0 Smart Watch\n",
       "29           NOISE  Rs. 1799              NoiseFit Evolve 3 Smartwatch"
      ]
     },
     "execution_count": 163,
     "metadata": {},
     "output_type": "execute_result"
    }
   ],
   "source": [
    "df2['Brands']=brs[0:30]\n",
    "df2['Prices']=ps[0:30]\n",
    "df2['Features']=products[0:30]\n",
    "df2"
   ]
  },
  {
   "cell_type": "code",
   "execution_count": 164,
   "id": "775fe6ed",
   "metadata": {},
   "outputs": [],
   "source": [
    "df2.to_csv(\"smartwatches.csv\")"
   ]
  },
  {
   "cell_type": "code",
   "execution_count": null,
   "id": "7bd3db1e",
   "metadata": {},
   "outputs": [],
   "source": []
  }
 ],
 "metadata": {
  "kernelspec": {
   "display_name": "Python 3 (ipykernel)",
   "language": "python",
   "name": "python3"
  },
  "language_info": {
   "codemirror_mode": {
    "name": "ipython",
    "version": 3
   },
   "file_extension": ".py",
   "mimetype": "text/x-python",
   "name": "python",
   "nbconvert_exporter": "python",
   "pygments_lexer": "ipython3",
   "version": "3.11.5"
  }
 },
 "nbformat": 4,
 "nbformat_minor": 5
}
