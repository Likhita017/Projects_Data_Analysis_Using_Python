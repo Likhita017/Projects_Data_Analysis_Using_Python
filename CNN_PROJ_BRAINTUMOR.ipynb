{
  "nbformat": 4,
  "nbformat_minor": 0,
  "metadata": {
    "colab": {
      "provenance": []
    },
    "kernelspec": {
      "name": "python3",
      "display_name": "Python 3"
    },
    "language_info": {
      "name": "python"
    }
  },
  "cells": [
    {
      "cell_type": "code",
      "execution_count": null,
      "metadata": {
        "id": "x5JOZQc2ii0S"
      },
      "outputs": [],
      "source": [
        "!pip install tensorflow"
      ]
    },
    {
      "cell_type": "code",
      "source": [
        "import tensorflow as tf\n",
        "from tensorflow import keras\n",
        "from tensorflow.keras import layers\n",
        "from tensorflow.keras.preprocessing.image import ImageDataGenerator"
      ],
      "metadata": {
        "id": "eCaILs86irjn"
      },
      "execution_count": null,
      "outputs": []
    },
    {
      "cell_type": "code",
      "source": [
        "#Define img size & Batch size\n",
        "IMG_SIZE=224\n",
        "BATCH_SIZE=32"
      ],
      "metadata": {
        "id": "wiAo3iVzi1xP"
      },
      "execution_count": null,
      "outputs": []
    },
    {
      "cell_type": "code",
      "source": [
        "#Creating Training data\n",
        "train_datagen=ImageDataGenerator(\n",
        "    rescale=1./255,\n",
        "    validation_split=0.2\n",
        " )"
      ],
      "metadata": {
        "id": "j3GNx2wli4-f"
      },
      "execution_count": null,
      "outputs": []
    },
    {
      "cell_type": "code",
      "source": [
        "#Creating training data with above parameters\n",
        "#folder=parameters.flow_from_directory(path,ts,bs,cm,subset)\n",
        "train_generator=train_datagen.flow_from_directory(\n",
        "    \"/content/drive/MyDrive/Brain Tumor/Train\",\n",
        "    target_size=(IMG_SIZE,IMG_SIZE),\n",
        "    batch_size=BATCH_SIZE,\n",
        "    class_mode='binary',\n",
        "    subset='training'\n",
        ")"
      ],
      "metadata": {
        "colab": {
          "base_uri": "https://localhost:8080/"
        },
        "id": "c2MrWV0Yi8pU",
        "outputId": "d680e739-4928-4c90-d6af-76ff487b1b9a"
      },
      "execution_count": null,
      "outputs": [
        {
          "output_type": "stream",
          "name": "stdout",
          "text": [
            "Found 2400 images belonging to 2 classes.\n"
          ]
        }
      ]
    },
    {
      "cell_type": "code",
      "source": [
        "#Creating validation data\n",
        "val_generator=train_datagen.flow_from_directory(\n",
        "    \"/content/drive/MyDrive/Brain Tumor/Train\",\n",
        "    target_size=(IMG_SIZE,IMG_SIZE),\n",
        "    batch_size=BATCH_SIZE,\n",
        "    class_mode='binary',\n",
        "    subset='validation'\n",
        ")"
      ],
      "metadata": {
        "colab": {
          "base_uri": "https://localhost:8080/"
        },
        "id": "-dDhcSARkb-x",
        "outputId": "2cb103ac-24e0-4179-ce6b-f46be2c2697f"
      },
      "execution_count": null,
      "outputs": [
        {
          "output_type": "stream",
          "name": "stdout",
          "text": [
            "Found 600 images belonging to 2 classes.\n"
          ]
        }
      ]
    },
    {
      "cell_type": "code",
      "source": [
        "model=keras.Sequential([\n",
        "    layers.Conv2D(32,(3,3),activation='relu',input_shape=(IMG_SIZE,IMG_SIZE,3)),\n",
        "    layers.MaxPooling2D((2,2)),\n",
        "    layers.Conv2D(64,(3,3),activation='relu'),\n",
        "    layers.MaxPooling2D((2, 2)),\n",
        "    layers.Conv2D(128,(3,3),activation='relu'),\n",
        "    layers.MaxPooling2D((2, 2)),\n",
        "    layers.Flatten(),\n",
        "    layers.Dense(128,activation='relu'),\n",
        "    layers.Dense(1,activation='sigmoid')\n",
        "])"
      ],
      "metadata": {
        "id": "1GTWSbp4mTZr"
      },
      "execution_count": null,
      "outputs": []
    },
    {
      "cell_type": "code",
      "source": [
        "#compiling the model\n",
        "model.compile(optimizer='adam',loss='binary_crossentropy',metrics=['accuracy'])"
      ],
      "metadata": {
        "id": "8VO7_cOBmyfB"
      },
      "execution_count": null,
      "outputs": []
    },
    {
      "cell_type": "code",
      "source": [
        "model.fit(train_generator,validation_data=val_generator,epochs=5)"
      ],
      "metadata": {
        "colab": {
          "base_uri": "https://localhost:8080/"
        },
        "id": "wueJc1TOnIL0",
        "outputId": "b561f758-c5f5-4942-e08c-631ad221bd1f"
      },
      "execution_count": null,
      "outputs": [
        {
          "output_type": "stream",
          "name": "stdout",
          "text": [
            "Epoch 1/5\n",
            "75/75 [==============================] - 515s 6s/step - loss: 0.6330 - accuracy: 0.7417 - val_loss: 0.3763 - val_accuracy: 0.8567\n",
            "Epoch 2/5\n",
            "75/75 [==============================] - 269s 4s/step - loss: 0.2725 - accuracy: 0.8921 - val_loss: 0.1625 - val_accuracy: 0.9317\n",
            "Epoch 3/5\n",
            "75/75 [==============================] - 271s 4s/step - loss: 0.1213 - accuracy: 0.9575 - val_loss: 0.0802 - val_accuracy: 0.9750\n",
            "Epoch 4/5\n",
            "75/75 [==============================] - 268s 4s/step - loss: 0.0578 - accuracy: 0.9850 - val_loss: 0.1128 - val_accuracy: 0.9633\n",
            "Epoch 5/5\n",
            "75/75 [==============================] - 270s 4s/step - loss: 0.0497 - accuracy: 0.9837 - val_loss: 0.0396 - val_accuracy: 0.9833\n"
          ]
        },
        {
          "output_type": "execute_result",
          "data": {
            "text/plain": [
              "<keras.src.callbacks.History at 0x7cbbe83bc850>"
            ]
          },
          "metadata": {},
          "execution_count": 9
        }
      ]
    },
    {
      "cell_type": "code",
      "source": [
        "model.save(\"BrainTumor.h5\",\"label.txt\")"
      ],
      "metadata": {
        "id": "ALXUXkTInhtg",
        "colab": {
          "base_uri": "https://localhost:8080/"
        },
        "outputId": "5c746064-0c70-4dab-c64b-5f697311d2c3"
      },
      "execution_count": null,
      "outputs": [
        {
          "output_type": "stream",
          "name": "stderr",
          "text": [
            "/usr/local/lib/python3.10/dist-packages/keras/src/engine/training.py:3103: UserWarning: You are saving your model as an HDF5 file via `model.save()`. This file format is considered legacy. We recommend using instead the native Keras format, e.g. `model.save('my_model.keras')`.\n",
            "  saving_api.save_model(\n"
          ]
        }
      ]
    },
    {
      "cell_type": "code",
      "execution_count": null,
      "metadata": {
        "id": "aEkqoNDSkCO1"
      },
      "outputs": [],
      "source": [
        "from tensorflow.keras.models import load_model\n",
        "from tensorflow.keras.preprocessing import image\n",
        "import numpy as np"
      ]
    },
    {
      "cell_type": "code",
      "source": [
        "#Load the saved model\n",
        "model=load_model('/content/drive/MyDrive/BrainTumor.h5')"
      ],
      "metadata": {
        "id": "SfLgWYKPkh8_"
      },
      "execution_count": null,
      "outputs": []
    },
    {
      "cell_type": "code",
      "source": [
        "#Load and preprocess the test image\n",
        "test_image_path='/content/drive/MyDrive/Brain Tumor/Test/pred/pred15.jpg'\n",
        "img=image.load_img(test_image_path,target_size=(224,224))\n",
        "img_array=image.img_to_array(img)\n",
        "img_array=np.expand_dims(img_array,axis=0)\n"
      ],
      "metadata": {
        "id": "ZZgu_iiukpCQ"
      },
      "execution_count": null,
      "outputs": []
    },
    {
      "cell_type": "code",
      "source": [
        "#Add batch dimension\n",
        "img_array/= 255. #Normalized the pixel values\n",
        "#Make predictions\n",
        "prediction=model.predict(img_array)\n",
        "#Print the predictions\n",
        "print(prediction)"
      ],
      "metadata": {
        "id": "nhNigij8nIfv",
        "colab": {
          "base_uri": "https://localhost:8080/"
        },
        "outputId": "8d631d90-ee05-4f7f-db57-b9b7ee0e2062"
      },
      "execution_count": null,
      "outputs": [
        {
          "output_type": "stream",
          "name": "stdout",
          "text": [
            "1/1 [==============================] - 0s 81ms/step\n",
            "[[0.00020827]]\n"
          ]
        }
      ]
    },
    {
      "cell_type": "code",
      "source": [
        "if prediction < 0.5:\n",
        "  print(\"Prediction : No Tumor Probability:\", prediction[0][0])\n",
        "else:\n",
        "  print(\"Prediction :  Tumor Probability:\", prediction[0][0])"
      ],
      "metadata": {
        "id": "iOWNUzeXo2XB",
        "colab": {
          "base_uri": "https://localhost:8080/"
        },
        "outputId": "b594e928-338a-4bce-95b9-f755bcb1f4ca"
      },
      "execution_count": null,
      "outputs": [
        {
          "output_type": "stream",
          "name": "stdout",
          "text": [
            "Prediction : No Tumor Probability: 0.00020826758\n"
          ]
        }
      ]
    }
  ]
}