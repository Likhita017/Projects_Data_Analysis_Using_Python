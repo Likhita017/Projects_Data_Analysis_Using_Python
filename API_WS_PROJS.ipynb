{
  "nbformat": 4,
  "nbformat_minor": 0,
  "metadata": {
    "colab": {
      "provenance": []
    },
    "kernelspec": {
      "name": "python3",
      "display_name": "Python 3"
    },
    "language_info": {
      "name": "python"
    }
  },
  "cells": [
    {
      "cell_type": "markdown",
      "source": [
        "WEATHER API"
      ],
      "metadata": {
        "id": "F6GcM0dgPGfm"
      }
    },
    {
      "cell_type": "code",
      "execution_count": null,
      "metadata": {
        "colab": {
          "base_uri": "https://localhost:8080/"
        },
        "id": "_YFZuICMPgjQ",
        "outputId": "e4046e77-b3d8-4d1a-8ed5-275cdbdb347e"
      },
      "outputs": [
        {
          "output_type": "stream",
          "name": "stdout",
          "text": [
            "Enter a city name:vizag\n",
            "{'location': {'name': 'Vizag', 'region': 'Andhra Pradesh', 'country': 'India', 'lat': 17.7, 'lon': 83.3, 'tz_id': 'Asia/Kolkata', 'localtime_epoch': 1709101941, 'localtime': '2024-02-28 12:02'}, 'current': {'last_updated_epoch': 1709101800, 'last_updated': '2024-02-28 12:00', 'temp_c': 28.2, 'temp_f': 82.8, 'is_day': 1, 'condition': {'text': 'Sunny', 'icon': '//cdn.weatherapi.com/weather/64x64/day/113.png', 'code': 1000}, 'wind_mph': 7.6, 'wind_kph': 12.2, 'wind_degree': 127, 'wind_dir': 'SE', 'pressure_mb': 1013.0, 'pressure_in': 29.9, 'precip_mm': 0.0, 'precip_in': 0.0, 'humidity': 56, 'cloud': 5, 'feelslike_c': 29.6, 'feelslike_f': 85.3, 'vis_km': 10.0, 'vis_miles': 6.0, 'uv': 7.0, 'gust_mph': 8.7, 'gust_kph': 14.1}}\n",
            "City: Vizag\n",
            "State: Andhra Pradesh\n",
            "Country: India\n",
            "Temperature in c: 28.2\n",
            "Wind Speed: 7.6\n",
            "Wind direction: SE\n",
            "Humidity: 56\n",
            "Feels: 29.6\n"
          ]
        }
      ],
      "source": [
        "import requests\n",
        "api_key='ad7342712b8f48c79a653618242802'\n",
        "city=input((\"Enter a city name:\"))\n",
        "url=f\"http://api.weatherapi.com/v1/current.json?key={api_key}&q={city}\"\n",
        "response=requests.get(url)\n",
        "data=response.json()\n",
        "print(data)\n",
        "\n",
        "if response.status_code==200:\n",
        "  print(\"City:\",data['location']['name'])\n",
        "  print(\"State:\",data['location']['region'])\n",
        "  print(\"Country:\",data['location']['country'])\n",
        "  print(\"Temperature in c:\",data['current']['temp_c'])\n",
        "  print(\"Wind Speed:\",data['current']['wind_mph'])\n",
        "  print(\"Wind direction:\",data['current']['wind_dir'])\n",
        "  print(\"Humidity:\",data['current']['humidity'])\n",
        "  print(\"Feels:\",data['current']['feelslike_c'])\n",
        "else:\n",
        "  print(data['error']['message'])"
      ]
    },
    {
      "cell_type": "code",
      "source": [
        "type(data)"
      ],
      "metadata": {
        "colab": {
          "base_uri": "https://localhost:8080/"
        },
        "id": "_q4PE4ULR6fV",
        "outputId": "cebe7592-da98-4e88-96ee-c36b3c3d3ade"
      },
      "execution_count": null,
      "outputs": [
        {
          "output_type": "execute_result",
          "data": {
            "text/plain": [
              "dict"
            ]
          },
          "metadata": {},
          "execution_count": 3
        }
      ]
    },
    {
      "cell_type": "code",
      "source": [
        "print(\"City:\",data['location']['name'])"
      ],
      "metadata": {
        "colab": {
          "base_uri": "https://localhost:8080/"
        },
        "id": "PwAbBfFISJ0T",
        "outputId": "a548c8a0-43b9-47d8-a522-4850b270ba22"
      },
      "execution_count": null,
      "outputs": [
        {
          "output_type": "stream",
          "name": "stdout",
          "text": [
            "City: Hyderabad\n"
          ]
        }
      ]
    },
    {
      "cell_type": "code",
      "source": [
        "print(\"City:\",data['location']['name'])\n",
        "print(\"State:\",data['location']['region'])\n",
        "print(\"Country:\",data['location']['country'])\n",
        "print(\"Temperature in c:\",data['current']['temp_c'])\n",
        "print(\"Wind Speed:\",data['current']['wind_mph'])\n",
        "print(\"Wind direction:\",data['current']['wind_dir'])\n",
        "print(\"Humidity:\",data['current']['humidity'])\n",
        "print(\"Feels:\",data['current']['feelslike_c'])\n"
      ],
      "metadata": {
        "colab": {
          "base_uri": "https://localhost:8080/"
        },
        "id": "wPlGX2p0SdHo",
        "outputId": "b64c5ba8-2be6-4c08-f55b-a0baaa8d4d87"
      },
      "execution_count": null,
      "outputs": [
        {
          "output_type": "stream",
          "name": "stdout",
          "text": [
            "City: Hyderabad\n",
            "State: Andhra Pradesh\n",
            "Country: India\n",
            "Temperature in c: 30.0\n",
            "Wind Speed: 2.2\n",
            "Wind direction: ESE\n",
            "Humidity: 38\n",
            "Feels: 28.6\n"
          ]
        }
      ]
    },
    {
      "cell_type": "code",
      "source": [
        "city=input(\"Enter city:\")\n",
        "print(city)"
      ],
      "metadata": {
        "colab": {
          "base_uri": "https://localhost:8080/"
        },
        "id": "mWjTzbCQVcUi",
        "outputId": "60352eef-274a-4914-9b74-6a9a92dd7050"
      },
      "execution_count": null,
      "outputs": [
        {
          "output_type": "stream",
          "name": "stdout",
          "text": [
            "Enter city:warangal\n",
            "warangal\n"
          ]
        }
      ]
    },
    {
      "cell_type": "markdown",
      "source": [
        "COVID-19 TRACKING API"
      ],
      "metadata": {
        "id": "NlDkbKkZPP8I"
      }
    },
    {
      "cell_type": "code",
      "source": [
        "import requests\n",
        "\n",
        "url = \"https://covid-19-tracking.p.rapidapi.com/v1/usa\"\n",
        "\n",
        "headers = {\n",
        "\t\"X-RapidAPI-Key\": \"922ac22f29mshfdfdc1d149c727dp13d584jsn9a814473023b\",\n",
        "\t\"X-RapidAPI-Host\": \"covid-19-tracking.p.rapidapi.com\"\n",
        "}\n",
        "\n",
        "response = requests.get(url, headers=headers)\n",
        "\n",
        "print(response.json())"
      ],
      "metadata": {
        "colab": {
          "base_uri": "https://localhost:8080/"
        },
        "id": "0nXDmu9y-Pi_",
        "outputId": "3cf8ed08-8d9a-4fc3-e36c-afce09aa6122"
      },
      "execution_count": null,
      "outputs": [
        {
          "output_type": "stream",
          "name": "stdout",
          "text": [
            "{'Active Cases_text': '', 'Country_text': 'USA', 'Last Update': '2024-03-03 11:55', 'New Cases_text': '', 'New Deaths_text': '', 'Total Cases_text': '111,557,170', 'Total Deaths_text': '1,216,366', 'Total Recovered_text': '109,298,781'}\n"
          ]
        }
      ]
    },
    {
      "cell_type": "markdown",
      "source": [
        "DISTANCE CALCULATOR API"
      ],
      "metadata": {
        "id": "w1Aa7y_2PvPo"
      }
    },
    {
      "cell_type": "code",
      "source": [
        "import requests\n",
        "\n",
        "url = \"https://distance-calculator8.p.rapidapi.com/calc\"\n",
        "\n",
        "querystring = {\"startLatitude\":\"-26.311960\",\"startLongitude\":\"-48.880964\",\"endLatitude\":\"-26.313662\",\"endLongitude\":\"-48.881103\"}\n",
        "\n",
        "headers = {\n",
        "\t\"X-RapidAPI-Key\": \"8266ba0ebbmshedb8ed8b6037119p126fb2jsn2ad1740182cc\",\n",
        "\t\"X-RapidAPI-Host\": \"distance-calculator8.p.rapidapi.com\"\n",
        "}\n",
        "\n",
        "response = requests.get(url, headers=headers, params=querystring)\n",
        "\n",
        "print(response.json())"
      ],
      "metadata": {
        "colab": {
          "base_uri": "https://localhost:8080/"
        },
        "id": "jTQWTRAEm5HP",
        "outputId": "4dcf11e5-06df-4437-ffac-7546651af2ab"
      },
      "execution_count": null,
      "outputs": [
        {
          "output_type": "stream",
          "name": "stdout",
          "text": [
            "{'statusCode': 200, 'body': {'distance': {'meters': 189.7602141814502, 'kilometers': 0.1897602141814502, 'miles': 0.1179118235931812}}}\n"
          ]
        }
      ]
    },
    {
      "cell_type": "markdown",
      "source": [
        "TEXT TO SPEECH API"
      ],
      "metadata": {
        "id": "QZsvf702QGpM"
      }
    },
    {
      "cell_type": "code",
      "source": [
        "import requests\n",
        "\n",
        "url = \"https://cloudlabs-text-to-speech.p.rapidapi.com/synthesize\"\n",
        "\n",
        "\n",
        "payload = {\n",
        "\t\"voice_code\": \"en-US-1\",\n",
        "\t\"text\": \"Welcome data analysis using python class!!\",\n",
        "\t\"speed\": \"1.00\",\n",
        "\t\"pitch\": \"1.00\",\n",
        "\t\"output_type\": \"audio_url\"\n",
        "}\n",
        "headers = {\n",
        "\t\"content-type\": \"application/x-www-form-urlencoded\",\n",
        "\t\"X-RapidAPI-Key\": \"8266ba0ebbmshedb8ed8b6037119p126fb2jsn2ad1740182cc\",\n",
        "\t\"X-RapidAPI-Host\": \"cloudlabs-text-to-speech.p.rapidapi.com\"\n",
        "}\n",
        "\n",
        "response = requests.post(url, data=payload, headers=headers)\n",
        "\n",
        "print(response.json())"
      ],
      "metadata": {
        "colab": {
          "base_uri": "https://localhost:8080/"
        },
        "id": "AJ12AA8HpXEy",
        "outputId": "c40f6668-0588-4886-a1fe-29a76eca9cee"
      },
      "execution_count": null,
      "outputs": [
        {
          "output_type": "stream",
          "name": "stdout",
          "text": [
            "{'status': 'success', 'result': {'audio_url': 'https://storage.googleapis.com/cloudlabs-tts.appspot.com/audio/audio-d90e8aa041ae61a2b6f5ed77aab4ff20.mp3'}}\n"
          ]
        }
      ]
    },
    {
      "cell_type": "markdown",
      "source": [
        "LINKEDIN PROFILE VIEWER"
      ],
      "metadata": {
        "id": "mPOcgbdGvBFD"
      }
    },
    {
      "cell_type": "code",
      "source": [
        "import requests\n",
        "\n",
        "url = \"https://linkedin-api8.p.rapidapi.com/\"\n",
        "\n",
        "querystring = {\"username\":\"username\"}\n",
        "\n",
        "headers = {\n",
        "\t\"X-RapidAPI-Key\": \"922ac22f29mshfdfdc1d149c727dp13d584jsn9a814473023b\",\n",
        "\t\"X-RapidAPI-Host\": \"linkedin-api8.p.rapidapi.com\"\n",
        "}\n",
        "\n",
        "response = requests.get(url, headers=headers, params=querystring)\n",
        "\n",
        "print(response.json())"
      ],
      "metadata": {
        "colab": {
          "base_uri": "https://localhost:8080/"
        },
        "id": "a2RyGvefvLXr",
        "outputId": "a976289b-b60d-441c-c5b4-e2e7a9ed1018"
      },
      "execution_count": null,
      "outputs": [
        {
          "output_type": "stream",
          "name": "stdout",
          "text": [
            "{'firstName': 'Yogesh', 'lastName': 'Kumar', 'isOpenToWork': False, 'isHiring': False, 'profilePicture': 'https://media.licdn.com/dms/image/D5603AQHHeiC4RfsaYA/profile-displayphoto-shrink_800_800/0/1668512713493?e=1715212800&v=beta&t=Ef7oJ-OmJvI61NTtVIUg92yjoN87jg4tGhojqnNC0Pc', 'summary': \"Click the connect button and I'll jump on a quick call with you! Stay safe and have a great day.\", 'headline': 'Certified Salesforce Expert |\\nSr. React Native Developer', 'geo': {'country': 'India', 'city': 'New Delhi, Delhi', 'full': 'New Delhi, Delhi, India'}, 'languages': [{'name': 'English', 'proficiency': 'NATIVE_OR_BILINGUAL'}, {'name': 'Hindi', 'proficiency': 'NATIVE_OR_BILINGUAL'}], 'educations': [{'start': {'year': 0, 'month': 0, 'day': 0}, 'end': {'year': 0, 'month': 0, 'day': 0}, 'fieldOfStudy': 'Cloud Computing & Analytics', 'degree': 'Master of Science - MS', 'grade': '3.58/4', 'schoolName': 'Illinois Institute of Technology', 'description': '', 'activities': '', 'url': 'https://www.linkedin.com/school/illinois-tech/', 'schoolId': '6328'}, {'start': {'year': 0, 'month': 0, 'day': 0}, 'end': {'year': 0, 'month': 0, 'day': 0}, 'fieldOfStudy': 'Computer/Information Technology Administration and Management', 'degree': 'Bachelor of Business Administration - BBA', 'grade': 'A', 'schoolName': 'Institute of Management Studies, Noida', 'description': 'Accounting for Leaders, Managerial Finance, Marketing Strategies, Leadership & Change in Org, Operational Planning & Policy', 'activities': '', 'url': 'https://www.linkedin.com/school/institute-of-management-studies-noida/', 'schoolId': '3259388'}], 'position': [{'companyName': 'Upwork', 'companyUsername': 'upwork', 'companyURL': 'https://www.linkedin.com/company/upwork/', 'companyIndustry': 'Computer Software', 'companyStaffCountRange': '501 - 1000', 'title': 'Certified Salesforce Admin, Developer & Marketing Operations Manager', 'location': 'United States', 'description': '✅Certified Salesforce Developer\\n✅Certified Salesforce Administrator\\n✅Certified Salesforce Marketing Cloud Specialist', 'employmentType': 'Freelance', 'start': {'year': 2022, 'month': 7, 'day': 0}, 'end': {'year': 0, 'month': 0, 'day': 0}}, {'companyName': 'CloudCache Consulting', 'companyUsername': 'cloudcache-consulting', 'companyURL': 'https://www.linkedin.com/company/cloudcache-consulting/', 'companyIndustry': 'Information Technology & Services', 'companyStaffCountRange': '11 - 50', 'title': 'Salesforce Admin & Developer', 'location': 'Bengaluru, Karnataka, India', 'description': '• Successfully migrated the business process from Microsoft CRM to Salesforce CRM.\\n• Developing the new requirement on Salesforce as per business needs.\\n• Analyzed business requirements, entity relationships and converting to Salesforce custom objects.\\n• Maintaining the security level and configuration on Salesforce. \\n• Implemented Apex Triggers for top-level standard objects such as Contacts, and Accounts.\\n• Developed Visual Force pages to implement custom functionality. \\n• Implemented various validation rules and workflows.\\n• Worked on the Agile Scrum model aimed at adaptability and customer satisfaction.\\n• Configured user security permissions in compliance with organizational needs to fulfill HIPAA rules.', 'employmentType': 'Full-time', 'start': {'year': 2019, 'month': 8, 'day': 0}, 'end': {'year': 2022, 'month': 7, 'day': 0}}, {'companyName': 'Citrusbug Technolabs', 'companyUsername': 'citrusbug', 'companyURL': 'https://www.linkedin.com/company/citrusbug/', 'companyIndustry': 'Information Technology & Services', 'companyStaffCountRange': '51 - 200', 'title': 'React Native Developer', 'location': 'Ahmedabad, Gujarat, India', 'description': '🚀Consider me if you need to:\\n- Build iOS & Android Mobile app using React Native, Flutter, Redux, Expo, Firebase.\\n- Build Rest Api using NodeJS + Firebase Admin SDK etc.\\n- Build Server side rendered Web App using Node.js + React.js + Next.js + Angular.js + Vue.js + Koa.\\n- Integrate GraphQL or Rest Api within Mobile App.\\n- Integrate Firebase Auth (Email/Pass, Facebook, Google, Twitter).\\n- Design Database using Cloud Fire Store, Realtime Database.\\n- Integrate Stripe Payment Gateway.\\n- Integrate Firebase Realtime Database for Chat App Implementation.\\n- Location Tracking during different stages/modes of App.\\n- Firebase Push Notification.\\n- Upgrade React Native to Make App Live.\\n\\niOS App Development & Android App Development\\n\\nFront End: JavaScript (ES5 and ES6) | React | React-Native | Redux | React Hooks | React Saga | React Fetch | JSX | Sqlite | Realm\\nBack End: Node.js | Express | MySQL | PostgreSQL | RESTful API Development | Firebase\\nTesting/Deployment: Mocha | Chai | Jest | Artillery | Loader.io | Amazon AWS | Firebase | Docker\\nDeveloper Tools: GitHub | npm | Webpack | Agile Methodology | TDD', 'employmentType': 'Full-time', 'start': {'year': 2018, 'month': 6, 'day': 0}, 'end': {'year': 2019, 'month': 8, 'day': 0}}, {'companyName': 'Clavax', 'companyUsername': 'clavax', 'companyURL': 'https://www.linkedin.com/company/clavax/', 'companyIndustry': 'Information Technology & Services', 'companyStaffCountRange': '201 - 500', 'title': 'Senior Business Development Manager', 'location': 'Gurugram, Haryana, India', 'description': '● Managing online bidding portals – Upwork, formerly Elance – oDesk, Freelancer, Guru, PeoplePerHour and AppFutura.\\n● Identifying the specific needs of customers, and then creating bespoke solutions.\\n● Responsible for driving business and sales growth by acquire new business opportunities through\\ndifferent channels.\\n● Responsible for converting the leads into business and ensuring monthly targets are\\nachieved.', 'employmentType': 'Full-time', 'start': {'year': 2017, 'month': 4, 'day': 0}, 'end': {'year': 2018, 'month': 6, 'day': 0}}, {'companyName': 'Rapidsoft Technologies - Mobile & Web Application Development', 'companyUsername': 'rapidsoft-technologies-pvt--ltd-', 'companyURL': 'https://www.linkedin.com/company/rapidsoft-technologies-pvt--ltd-/', 'companyIndustry': 'Information Technology & Services', 'companyStaffCountRange': '51 - 200', 'title': 'Business Development Manager', 'location': 'Gurugram, Haryana, India', 'description': 'I was handling the responsibilities of maintaining steady stream of revenue for the\\norganization by bringing new mobile based software development projects.\\n\\n● Managing the Pre-Sales team to ensure a sufficiently healthy leads pipeline and funnel.\\n● Finding alternate source of business development including SEO & Pre-Sales Leads.\\n● Generating Pre-Sales leads through Email Marketing.\\n● Submitting online forms on online directories like Yelp, Entireweb, Viesearch, and Yellowpages.\\n● Finding fresh data from Google and Yahoo for Email Marketing.\\n● Advertising in social media networks for SEO leads.', 'employmentType': 'Full-time', 'start': {'year': 2015, 'month': 10, 'day': 0}, 'end': {'year': 2017, 'month': 3, 'day': 0}}], 'skills': [{'name': 'Business Development'}, {'name': 'Business Strategy'}, {'name': 'Customer Satisfaction'}, {'name': 'Customer Relationship Management (CRM)'}, {'name': 'Salesforce.com'}, {'name': 'New Business Development'}, {'name': 'Project Management'}, {'name': 'Team Management'}, {'name': 'Sales Management'}, {'name': 'CRM'}, {'name': 'Lead Generation'}, {'name': 'Management'}, {'name': 'Project Planning'}, {'name': 'Digital Marketing'}, {'name': 'Mobile Application Development'}, {'name': 'E-commerce'}, {'name': 'Website Development'}, {'name': 'Leadership'}, {'name': 'Business Analysis'}, {'name': 'Sales'}], 'givenRecommendation': None, 'receivedRecommendation': None, 'courses': [{'name': 'English Speaking Course from British School of Language (BSL)', 'number': 'DNWL0916'}, {'name': 'Information Security Risk Management', 'number': 'ITC8261'}, {'name': 'Information Security Technology', 'number': 'ITC7830'}], 'certifications': [{'name': 'Salesforce Certified Advanced Administrator', 'start': {'year': 2019, 'month': 10, 'day': 0}, 'end': {'year': 0, 'month': 0, 'day': 0}, 'authority': 'Salesforce', 'company': {'name': 'Salesforce', 'universalName': 'salesforce', 'logo': 'https://media.licdn.com/dms/image/C560BAQHZ9xYomLW7zg/company-logo_200_200/0/1630658255326/salesforce_logo?e=1717632000&v=beta&t=oh12NLXc9wvIP4AMbwGFWIoBaIza5GUs4Z_wjdwgfNQ', 'staffCountRange': {}, 'headquarter': {}}, 'timePeriod': {'start': {'year': 0, 'month': 0, 'day': 0}, 'end': {'year': 0, 'month': 0, 'day': 0}}}, {'name': 'Salesforce Certified Marketing Cloud Specialist', 'start': {'year': 2019, 'month': 9, 'day': 0}, 'end': {'year': 0, 'month': 0, 'day': 0}, 'authority': 'Salesforce', 'company': {'name': 'Salesforce', 'universalName': 'salesforce', 'logo': 'https://media.licdn.com/dms/image/C560BAQHZ9xYomLW7zg/company-logo_200_200/0/1630658255326/salesforce_logo?e=1717632000&v=beta&t=oh12NLXc9wvIP4AMbwGFWIoBaIza5GUs4Z_wjdwgfNQ', 'staffCountRange': {}, 'headquarter': {}}, 'timePeriod': {'start': {'year': 0, 'month': 0, 'day': 0}, 'end': {'year': 0, 'month': 0, 'day': 0}}}, {'name': 'Troubleshooting Network Connectivity', 'start': {'year': 2019, 'month': 7, 'day': 0}, 'end': {'year': 0, 'month': 0, 'day': 0}, 'authority': 'LinkedIn', 'company': {'name': 'LinkedIn', 'universalName': 'linkedin', 'logo': 'https://media.licdn.com/dms/image/C560BAQHaVYd13rRz3A/company-logo_200_200/0/1638831590218/linkedin_logo?e=1717632000&v=beta&t=KAdB-HP476AvXf3_W8ZCGKd75gCr-nammd-e-MObJXA', 'staffCountRange': {}, 'headquarter': {}}, 'timePeriod': {'start': {'year': 0, 'month': 0, 'day': 0}, 'end': {'year': 0, 'month': 0, 'day': 0}}}], 'honors': [{'title': 'Best Employee of the Month', 'issuer': 'Clavax Community', 'issuedOn': {'year': 2018, 'month': 9, 'day': 0}}, {'title': 'Best Employee of the Month', 'issuer': 'Rapidsoft Community', 'issuedOn': {'year': 2016, 'month': 10, 'day': 0}}], 'volunteering': [{'title': 'Member', 'start': {'year': 2019, 'month': 7, 'day': 0}, 'end': {'year': 0, 'month': 0, 'day': 0}, 'companyName': 'OWASP® Foundation', 'CompanyId': '250673', 'companyUrl': 'https://www.linkedin.com/company/250673'}]}\n"
          ]
        }
      ]
    }
  ]
}